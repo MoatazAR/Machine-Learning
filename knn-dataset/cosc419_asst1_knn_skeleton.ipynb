{
 "cells": [
  {
   "cell_type": "markdown",
   "metadata": {
    "colab_type": "text",
    "id": "JFXZug066bJX"
   },
   "source": [
    "# Upload files in Google Colab\n",
    "If you are running this Jupyter Notebook on Google Colab, run this cell to upload the data files (train_inputs.csv, train_labels.csv, test_inputs.csv, test_labels.csv) in the Colab virtual machine.  You will be prompted to select files that you would like to upload. \n",
    "\n",
    "If you are running this Jupyter Notebook on your computer, you do not need to run this cell."
   ]
  },
  {
   "cell_type": "code",
   "execution_count": null,
   "metadata": {
    "colab": {},
    "colab_type": "code",
    "id": "dqBJV_Br4XeI"
   },
   "outputs": [],
   "source": [
    "from google.colab import files\n",
    "uploaded = files.upload()\n",
    "%ls"
   ]
  },
  {
   "cell_type": "markdown",
   "metadata": {
    "colab_type": "text",
    "id": "LZDpxE4jmFwA"
   },
   "source": [
    "# Import libraries \n",
    "Do not use any other Python library."
   ]
  },
  {
   "cell_type": "code",
   "execution_count": 52,
   "metadata": {
    "colab": {},
    "colab_type": "code",
    "id": "m_1d0BPfmacB"
   },
   "outputs": [],
   "source": [
    "import numpy as np\n",
    "import matplotlib.pyplot as plt"
   ]
  },
  {
   "cell_type": "markdown",
   "metadata": {
    "colab_type": "text",
    "id": "NYesJygrmgHM"
   },
   "source": [
    "# Function: load_knn_data\n",
    "\n",
    "This function loads the data for KNN from a local drive into RAM\n",
    "\n",
    "Outputs:\n",
    "\n",
    "*   **train_inputs**: numpy array of N training data points x M features\n",
    "*   **train_labels**: numpy array of N training labels\n",
    "*   **test_inputs**: numpy array of N' test data points x M features\n",
    "*   **test_labels**: numpy array of N' test labels\n",
    "\n",
    "\n",
    "\n",
    "\n",
    "  \n",
    "\n"
   ]
  },
  {
   "cell_type": "code",
   "execution_count": 9,
   "metadata": {
    "colab": {},
    "colab_type": "code",
    "id": "7goFIgwnomoo"
   },
   "outputs": [],
   "source": [
    "def load_knn_data():\n",
    "    test_inputs = np.genfromtxt('test_inputs.csv', delimiter=',')\n",
    "    test_labels = np.genfromtxt('test_labels.csv', delimiter=',')\n",
    "    train_inputs = np.genfromtxt('train_inputs.csv', delimiter=',')\n",
    "    train_labels = np.genfromtxt('train_labels.csv', delimiter=',')\n",
    "    return train_inputs, train_labels, test_inputs, test_labels"
   ]
  },
  {
   "cell_type": "markdown",
   "metadata": {
    "colab_type": "text",
    "id": "Y87Mnf21owf0"
   },
   "source": [
    "# Function: predict_knn\n",
    "\n",
    "This function uses the KNN classifier to predict the label of a data point.\n",
    "\n",
    "Inputs:\n",
    "*   **x**: input data point for which we want to predict the label (numpy array of M features)\n",
    "*   **inputs**: matrix of data points in which neighbours will be found (numpy array of N data points x M features)\n",
    "*   **labels**: vector of labels associated with the data points  (numpy array of N labels)\n",
    "*   **k_neighbours**: # of nearest neighbours that will be used\n",
    "\n",
    "Output:\n",
    "*   **predicted_label**: predicted label (integer)\n",
    "\n",
    "\n"
   ]
  },
  {
   "cell_type": "code",
   "execution_count": 3,
   "metadata": {},
   "outputs": [],
   "source": [
    "def euclidean_distance(x1,x2):\n",
    "    return np.sqrt(np.sum((x1-x2)**2))"
   ]
  },
  {
   "cell_type": "code",
   "execution_count": 13,
   "metadata": {},
   "outputs": [],
   "source": [
    "# function that takes in an array & returns the most common value within the array\n",
    "def most_common(arr):\n",
    "    return max(set(arr), key = arr.count)"
   ]
  },
  {
   "cell_type": "code",
   "execution_count": 5,
   "metadata": {
    "colab": {},
    "colab_type": "code",
    "id": "MNXK7L5wpOEa"
   },
   "outputs": [],
   "source": [
    "def predict_knn(x, inputs, labels, k_neighbours):\n",
    "  # Create an array of all euclidean ditances between point x & all inputs points in dataset (inputs)\n",
    "     distancesArray = [euclidean_distance(x, input) for input in inputs]\n",
    "  # Sort array by distances (shortest to longest) & save indeces of the k-nearest-neighbors\n",
    "     distance_indeces = np.argsort(distancesArray)\n",
    "     knn_indeces = distance_indeces[:k_neighbours]\n",
    "  # Find labels (response variable) of knn\n",
    "     knn_labels = [labels[index] for index in knn_indeces]\n",
    "  # Find the most common value of knn for x (the label for x)\n",
    "     predicted_label = most_common(knn_labels)\n",
    "     return predicted_label"
   ]
  },
  {
   "cell_type": "markdown",
   "metadata": {
    "colab_type": "text",
    "id": "I7bIamtprLxK"
   },
   "source": [
    "# Function: eval_knn\n",
    "\n",
    "Function that evaluates the accuracy of the KNN classifier on a dataset.  The dataset to be evaluated consists of (inputs, labels).  The dataset used to find nearest neighbours consists of (train_inputs, train_labels).\n",
    "\n",
    "Inputs:\n",
    "*   **inputs**: matrix of input data points to be evaluated (numpy array of N data points x M features)\n",
    "*   **labels**: vector of target labels for the inputs (numpy array of N labels)\n",
    "*   **train_inputs**: matrix of input data points in which neighbours will be found (numpy array of N' data points x M features)\n",
    "*   **train_labels**: vector of labels for the training inputs (numpy array of N' labels)\n",
    "*   **k_neighbours**: # of nearest neighbours to be used (integer)\n",
    "\n",
    "Outputs:\n",
    "*   **accuracy**: percentage of correctly labeled data points (float)\n",
    "\n",
    "\n"
   ]
  },
  {
   "cell_type": "code",
   "execution_count": 6,
   "metadata": {
    "colab": {},
    "colab_type": "code",
    "id": "MCQe7L8XrjdI"
   },
   "outputs": [],
   "source": [
    "def eval_knn(inputs, labels, train_inputs, train_labels, k_neighbours):\n",
    "  # Get the predicted labels array for inputs (predictor variables test set) and save it in an array called predicted_labels\n",
    "    predicted_labels = [predict_knn(input, train_inputs, train_labels, k_neighbours) for input in inputs]\n",
    "  # Compare predicted_labels with labels to get the accuracy scores\n",
    "    accuracy = np.mean(predicted_labels == labels)\n",
    "    return accuracy"
   ]
  },
  {
   "cell_type": "markdown",
   "metadata": {
    "colab_type": "text",
    "id": "rXNO9nXb1beV"
   },
   "source": [
    "# Function: cross_validation_knn\n",
    "\n",
    "This function performs k-fold cross validation to determine the best number of neighbours for KNN.\n",
    "\n",
    "Inputs:\n",
    "*   **k_folds**: # of folds in cross-validation (integer)\n",
    "*   **hyperparameters**: list of hyperparameters where each hyperparameter is a different # of neighbours (list of integers)\n",
    "*   **inputs**: matrix of data points to be used when searching for neighbours (numpy array of N data points by M features)\n",
    "*   **labels**: vector of labels associated with the inputs (numpy array of N labels)\n",
    "\n",
    "Outputs:\n",
    "*   **best_hyperparam**: best # of neighbours for KNN (integer)\n",
    "*   **best_accuracy**: accuracy achieved with best_hyperparam (float)\n",
    "*   **accuracies**: vector of accuracies for the corresponding hyperparameters (numpy array of floats)\n",
    "\n",
    "\n",
    "\n"
   ]
  },
  {
   "cell_type": "code",
   "execution_count": 118,
   "metadata": {
    "colab": {},
    "colab_type": "code",
    "id": "VpHnYR3x1mFZ"
   },
   "outputs": [],
   "source": [
    "def cross_validation_knn(k_folds, hyperparameters, inputs, labels):\n",
    "    # First, join inputs & labels prior to shuffling, in order to keep results correlated to input data & then shuffle\n",
    "    train_data = np.append(inputs, labels, axis=1)  \n",
    "    np.random.shuffle(train_data) \n",
    "    \n",
    "    # Split the training dataset (inputs) by k_folds into 10 sets\n",
    "    train_data = np.array_split(train_data, k_folds)\n",
    "    \n",
    "    # First element of each array represents the knn value, later the accuracies will be appended onto their respective knn value's array\n",
    "    accuracies = [[1],[2],[3],[4],[5],[6],[7],[8],[9],[10],[11],[12],[13],[14],[15],[16],[17],[18],[19],[20],[21],[22],[23],[24],[25],[26],[27],[28],[29],[30]]\n",
    "    num_of_cols = len(inputs[0])\n",
    "\n",
    "    # for each 2d Array in train_data, remove it in order to use it as a test set & combine and use the rest of the array as a training set\n",
    "    for array in train_data:\n",
    "        # Make a copy of the train_data array\n",
    "        training_data = train_data.copy()\n",
    "        # Remove the current 2d array from the copy & concatenate the copy in order to have a training dataset\n",
    "        training_data.remove(array)\n",
    "        training_data = np.concatenate((training_data), axis=0)\n",
    "        # Split data into training (predictor & response variables) and testing (predictor & response variables)\n",
    "        train_inputs = training_data[:,:num_of_cols]\n",
    "        train_labels = training_data[:,num_of_cols]\n",
    "        test_inputs = array[:,:num_of_cols]\n",
    "        test_labels = array[:,num_of_cols]\n",
    "        # After splitting data into training & testing, iterate of KNN hyperparameters range & store the accuracies for each\n",
    "        for i in hyperparameters:\n",
    "            accuracies[i-1].append(eval_knn(test_inputs,test_labels,train_inputs,train_labels,i))\n",
    "    # create an array to determine which knn value had the best accuracy\n",
    "    best_accuracies = []\n",
    "    for i in range(0,30):\n",
    "        # Sum up all the accuracy scores in each array of the overall 2d array (accuracies) & store it in the variable\n",
    "        num = 0;\n",
    "        for j in range(1,10):\n",
    "            num += accuracies[i][j]\n",
    "        # divide the num value to get the mean accuracy for each knn value\n",
    "        best_accuracies.append(num/k_folds)\n",
    "    # Best mean accuracy will be the value with the highest mean accuracy\n",
    "    best_accuracy = max(best_accuracies)\n",
    "    # Since we are traversing the array in order, the index of each element in array (best_accuracies) will be 1 short from the knn number\n",
    "    best_hyperparam = best_accuracies.index(best_accuracy).astype('int')+1\n",
    "    return best_hyperparam, best_accuracy, accuracies"
   ]
  },
  {
   "cell_type": "markdown",
   "metadata": {
    "colab_type": "text",
    "id": "qb31YTWg4rSm"
   },
   "source": [
    "# Function: plot_knn_accuracies\n",
    "\n",
    "Function that plots the KNN accuracies for different # of neighbours (hyperparameters) based on cross validation\n",
    "\n",
    "Inputs:\n",
    "*   **accuracies**: vector of accuracies for the corresponding hyperparameters (numpy array of floats)\n",
    "*   **hyperparams**: list of hyperparameters where each hyperparameter is a different # of neighbours (list of integers)\n"
   ]
  },
  {
   "cell_type": "code",
   "execution_count": 7,
   "metadata": {
    "colab": {},
    "colab_type": "code",
    "id": "MpbE_-Yt5HiI"
   },
   "outputs": [],
   "source": [
    "def plot_knn_accuracies(accuracies,hyperparams):\n",
    "    plt.plot(hyperparams,accuracies)\n",
    "    plt.ylabel('accuracy')\n",
    "    plt.xlabel('k neighbours')\n",
    "    plt.show()  "
   ]
  }
 ],
 "metadata": {
  "colab": {
   "name": "cs480_fall20_asst1_knn_skeleton.ipynb",
   "provenance": []
  },
  "kernelspec": {
   "display_name": "Python 3",
   "language": "python",
   "name": "python3"
  },
  "language_info": {
   "codemirror_mode": {
    "name": "ipython",
    "version": 3
   },
   "file_extension": ".py",
   "mimetype": "text/x-python",
   "name": "python",
   "nbconvert_exporter": "python",
   "pygments_lexer": "ipython3",
   "version": "3.8.3"
  }
 },
 "nbformat": 4,
 "nbformat_minor": 1
}
