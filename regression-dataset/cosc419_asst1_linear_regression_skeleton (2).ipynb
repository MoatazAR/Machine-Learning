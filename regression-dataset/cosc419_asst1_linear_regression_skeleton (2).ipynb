{
 "cells": [
  {
   "cell_type": "markdown",
   "metadata": {
    "colab_type": "text",
    "id": "JFXZug066bJX"
   },
   "source": [
    "# Upload files in Google Colab\n",
    "If you are running this Jupyter Notebook on Google Colab, run this cell to upload the data files (train_inputs.csv, train_targets.csv, test_inputs.csv, test_targets.csv) in the colab virtual machine.  You will be prompted to select files that you would like to upload. \n",
    "\n",
    "If you are running this Jupyter Notebook on your computer, you do not need to run this cell."
   ]
  },
  {
   "cell_type": "code",
   "execution_count": null,
   "metadata": {
    "colab": {},
    "colab_type": "code",
    "id": "dqBJV_Br4XeI"
   },
   "outputs": [],
   "source": [
    "from google.colab import files\n",
    "uploaded = files.upload()\n",
    "%ls"
   ]
  },
  {
   "cell_type": "markdown",
   "metadata": {
    "colab_type": "text",
    "id": "LZDpxE4jmFwA"
   },
   "source": [
    "# Import libraries \n",
    "Do not use any other Python library."
   ]
  },
  {
   "cell_type": "code",
   "execution_count": 2,
   "metadata": {
    "colab": {},
    "colab_type": "code",
    "id": "m_1d0BPfmacB"
   },
   "outputs": [],
   "source": [
    "import numpy as np\n",
    "import matplotlib.pyplot as plt"
   ]
  },
  {
   "cell_type": "markdown",
   "metadata": {
    "colab_type": "text",
    "id": "6keYhcgi7nbf"
   },
   "source": [
    "# Function: load_linear_regression_data\n",
    "\n",
    "This function loads the data for Linear Regression from a local drive into RAM\n",
    "\n",
    "Outputs:\n",
    "\n",
    "*   **train_inputs**: numpy array of N training data points x M features\n",
    "*   **train_targets**: numpy array of N training targets\n",
    "*   **test_inputs**: numpy array of N' test data points x M features\n",
    "*   **test_targets**: numpy array of N' test targets"
   ]
  },
  {
   "cell_type": "code",
   "execution_count": 3,
   "metadata": {
    "colab": {},
    "colab_type": "code",
    "id": "vcG5U2lR7utt"
   },
   "outputs": [],
   "source": [
    "def load_linear_regression_data():\n",
    "    test_inputs = np.genfromtxt('test_inputs.csv', delimiter=',')\n",
    "    test_targets = np.genfromtxt('test_targets.csv', delimiter=',')\n",
    "    train_inputs = np.genfromtxt('train_inputs.csv', delimiter=',')\n",
    "    train_targets = np.genfromtxt('train_targets.csv', delimiter=',')\n",
    "    return train_inputs, train_targets, test_inputs, test_targets\n"
   ]
  },
  {
   "cell_type": "markdown",
   "metadata": {
    "colab_type": "text",
    "id": "GwLo3p4f8bTa"
   },
   "source": [
    "# Function: predict_linear_regression\n",
    "\n",
    "This function uses a vector of weights to make predictions for a set of inputs.\n",
    "\n",
    "Inputs:\n",
    "*   **inputs**: matrix of input data points for which we want to make a prediction (numpy array of N data points x M+1 features)\n",
    "*   **weights**: vector of weights (numpy array of M+1 weights)\n",
    "\n",
    "Output:\n",
    "*   **predicted_values**: vector of predicted values (numpy array of N floats)"
   ]
  },
  {
   "cell_type": "code",
   "execution_count": 33,
   "metadata": {
    "colab": {},
    "colab_type": "code",
    "id": "iX04_wClRqkV"
   },
   "outputs": [],
   "source": [
    "def predict_linear_regression(inputs, weights):\n",
    "    # The formula followed by this function : (predicted value = feature1 * weight1 + feature2 * weight2 + .....), where inputs is a set of inputs data (x1, x2, etc), weights is a vector of the slopes & intercepts (w0, w1, etc) and predicted_values is a vector of the response variables (y values)\n",
    "    # Since the number of features = number of weights, and inputs shape is (200,2), the number of features is 2, meaning the number of weights is 2 as well\n",
    "    num_of_datapts = len(inputs)\n",
    "    predicted_values = np.zeros(inputs.shape[0])\n",
    "    # iterate through the inputs array & use the formular to add values to the predicted_values array, using formula: predicted_value = input0*weight0 + input1*weight1\n",
    "    for i in range(0, num_of_datapts):\n",
    "        predicted_values.append((inputs[i][0]*weights[0]+inputs[i][1]*weights[1]))\n",
    "    return predicted_values"
   ]
  },
  {
   "cell_type": "markdown",
   "metadata": {
    "colab_type": "text",
    "id": "fmfPN7K0RtQ5"
   },
   "source": [
    "# Function eval_linear_regression\n",
    "\n",
    "This function evaluates a set of predictions by computing the mean squared error with respect to the targets\n",
    "\n",
    "Inputs:\n",
    "*   **inputs**: matrix of input data points for which we will evaluate the predictions (numpy array of N data points x M+1 features)\n",
    "*   **weights**: vector of weights (numpy array of M+1 weights)\n",
    "*   **targets**: vector of targets associated with the inputs (numpy array of N targets)\n",
    "\n",
    "Output:\n",
    "*   **mean_squared_error**: mean squared error between the predicted values and the targets (scalar)"
   ]
  },
  {
   "cell_type": "code",
   "execution_count": 36,
   "metadata": {
    "colab": {},
    "colab_type": "code",
    "id": "wC14LEsvTxbu"
   },
   "outputs": [],
   "source": [
    "def eval_linear_regression(inputs, weights, targets):\n",
    "    # The Mean Squared Error formula is : 1/N *SUM(targets - predicted_values)^2\n",
    "    # Call predict_liner_regression function to gather the estimated values\n",
    "    predicted_values = predict_linear_regression(inputs, weights)\n",
    "    # Get the total number of datapoints\n",
    "    mean_squared_error = 0\n",
    "    for i in range (0,N-1):\n",
    "        # Iterate through both the predicted values & actual values (target), adding the square of the difference\n",
    "        mean_squared_error += (targets[i]-predicted_values[i])**2\n",
    "    # then multiply the mean squared error by 1/N\n",
    "    mean_squared_error = mean_squared_error * (1/N)\n",
    "    return mean_squared_error"
   ]
  },
  {
   "cell_type": "markdown",
   "metadata": {
    "colab_type": "text",
    "id": "RMAzC5xXT0H-"
   },
   "source": [
    "# Function train_linear_regression\n",
    "\n",
    "This function optimizes a set of weights for linear regression based on a training set\n",
    "\n",
    "Inputs:\n",
    "*   **train_inputs**: matrix of input training points (numpy array of N data points x M+1 features)\n",
    "*   **train_targets**: vector of targets associated with the inputs (numpy array of N targets)\n",
    "*   **lambda_hyperparam**: lambda hyperparameter used to adjust the importance of the regularizer (scalar)\n",
    "\n",
    "Output:\n",
    "*   **weights**: vector of weights that have been optimized (numpy array of M+1 weights)\n",
    "\n"
   ]
  },
  {
   "cell_type": "code",
   "execution_count": 76,
   "metadata": {
    "colab": {},
    "colab_type": "code",
    "id": "_DkzoT5QVy41"
   },
   "outputs": [],
   "source": [
    "def train_linear_regression(train_inputs, train_targets, lambda_hyperparam):\n",
    "    weights = np.zeros(train_inputs.shape[1])\n",
    "    # The formula for the weights is: weight = ((A +(lambda)*I)^-1) * b\n",
    "    # A = SUM(Xn * Xn't), where Xn is the datapoint in train_inputs and Xn't is the datapoint in the transpose of train_inputs\n",
    "    # We can start by finding the transpose of train_inputs matrix & finding A, which will be the product of train_input & it's transpose\n",
    "    train_inputs_transpose = train_inputs.transpose()\n",
    "    A = np.matmul(train_inputs_transpose,train_inputs)\n",
    "    # Next, we'll have to calculate b, which is SUM(Xn * tn), where tn is the train_targets datapoints\n",
    "    b = np.matmul(train_targets,train_inputs)\n",
    "    # Next, we'll have to add I * λ to A, Where I is the identity matrix of size A.shape[0] and λ is lambda_hyperparam\n",
    "    I = np.identity(A.shape[0])\n",
    "    I = I * lambda_hyperparam\n",
    "    A = A + I\n",
    "    # Next, find the inverse of (A + Iλ)\n",
    "    A_inverse = np.linalg.inv(A)\n",
    "    # Finally, we compute the weight by multiplying A_inverse with b\n",
    "    weights = np.matmul(A_inverse,b)\n",
    "    return weights"
   ]
  },
  {
   "cell_type": "markdown",
   "metadata": {
    "colab_type": "text",
    "id": "VYIbLxX7V2DW"
   },
   "source": [
    "# Function cross_validation_linear_regression\n",
    "\n",
    "This function performs k-fold cross validation to determine the best lambda hyperparameter in linear regression\n",
    "\n",
    "Inputs:\n",
    "*   **k_folds**: # of folds in cross-validation (integer)\n",
    "*   **hyperparameters**: list of hyperparameters where each hyperparameter is a different lambda value (list of floats)\n",
    "*   **inputs**: matrix of input points (numpy array of N data points by M+1 features)\n",
    "*   **targets**: vector of targets associated with the inputs (numpy array of N targets)\n",
    "\n",
    "Outputs:\n",
    "*   **best_hyperparam**: best lambda value for linear regression (float)\n",
    "*   **best_mean_squared_error**: mean squared error achieved with best_hyperparam (float)\n",
    "*   **mean_squared_errors**: vector of mean squared errors for the corresponding hyperparameters (numpy array of floats)\n",
    "\n"
   ]
  },
  {
   "cell_type": "code",
   "execution_count": 81,
   "metadata": {},
   "outputs": [
    {
     "data": {
      "text/plain": [
       "[[1, 0], [2, 1], [3, 2], [4]]"
      ]
     },
     "execution_count": 81,
     "metadata": {},
     "output_type": "execute_result"
    }
   ],
   "source": [
    "a = [[1],[2],[3],[4]]\n",
    "for i in range(0,3):\n",
    "    a[i].append(i)\n",
    "a"
   ]
  },
  {
   "cell_type": "code",
   "execution_count": 82,
   "metadata": {
    "colab": {},
    "colab_type": "code",
    "id": "_ZzoiZxLZMcV"
   },
   "outputs": [],
   "source": [
    "def cross_validation_linear_regression(k_folds, hyperparameters, inputs, targets):\n",
    "    mean_squared_errors = np.zeros(len(hyperparameters))\n",
    "    num_of_cols = len(inputs[0])\n",
    "    # First, join inputs & labels prior to shuffling, in order to keep results correlated to input data & then shuffle\n",
    "    train_data = np.append(inputs, targets, axis=1)\n",
    "    np.random.shuffle(train_data) \n",
    "    # Then split train_data back into inputs & targets\n",
    "    train_inputs = train_data[:,:num_of_cols]\n",
    "    train_targets = train_data[:,num_of_cols]\n",
    "    for i in hyperparameters:\n",
    "        # Next, we will iterate through the hyperparameters array and find the weights for each value of lambda\n",
    "        weights = train_linear_regression(train_inputs, train_targets, train_targets)\n",
    "        # Then we will append each MSE value to mean_squared_errors\n",
    "        mean_squared_errors.append(eval_linear_regression(train_inputs,weights,i))\n",
    "    # Afterwards, we have to find the best MSE, that being the lowest MSE\n",
    "    best_hyperparam = min(mean_squared_errors)\n",
    "    # Since we iterate through the hyperparameters & add the MSE values respectively, the index of the mininum MSE is the index of the corresponding best hyperparamter in hyperparameters\n",
    "    hyperparam_index = best_accuracies.index(best_accuracy).astype('int')\n",
    "    best_mean_squared_error = mean_squared_errors[hyperparam_index]\n",
    "    return best_hyperparam, best_mean_squared_error, mean_squared_errors"
   ]
  },
  {
   "cell_type": "markdown",
   "metadata": {
    "colab_type": "text",
    "id": "_ah5AAayZfVU"
   },
   "source": [
    "# Function: plot_linear_regression_mean_squared_errors\n",
    "\n",
    "Function that plots the mean squared errors for different lambda values (hyperparameters) in linear regression based on cross validation\n",
    "\n",
    "Inputs:\n",
    "*   **mean_squared_errors**: vector of mean squared errors for the corresponding hyperparameters (numpy array of floats)\n",
    "*   **hyperparams**: list of hyperparameters where each hyperparameter is a different lambda value (list of floats)"
   ]
  },
  {
   "cell_type": "code",
   "execution_count": 8,
   "metadata": {
    "colab": {},
    "colab_type": "code",
    "id": "dh9qZuzMatsZ"
   },
   "outputs": [],
   "source": [
    "def plot_linear_regression_mean_squared_errors(mean_squared_errors,hyperparams):\n",
    "    plt.plot(hyperparams,mean_squared_errors)\n",
    "    plt.ylabel('mean squared error')\n",
    "    plt.xlabel('lambda')\n",
    "    plt.show()"
   ]
  },
  {
   "cell_type": "markdown",
   "metadata": {
    "colab_type": "text",
    "id": "s21LRP5Qb3m8"
   },
   "source": [
    "# Main Linear Regression code\n",
    "\n",
    "Load data.\n",
    "Use k-fold cross validation to find the best lambda value for linear regression.\n",
    "Plot mean squared errors for different lambda values.\n",
    "Test linear regression with the best lambda value."
   ]
  },
  {
   "cell_type": "code",
   "execution_count": null,
   "metadata": {
    "colab": {},
    "colab_type": "code",
    "id": "njlK2bf7sycQ"
   },
   "outputs": [],
   "source": [
    "# load data\n",
    "train_inputs, train_targets, test_inputs, test_targets = load_linear_regression_data()\n",
    "\n",
    "# add 1 at the end of each data point\n",
    "train_inputs = np.concatenate((train_inputs,np.ones((train_inputs.shape[0],1))),1)\n",
    "test_inputs = np.concatenate((test_inputs,np.ones((test_inputs.shape[0],1))),1)\n",
    "\n",
    "# lambda values to be evaluated by cross validation\n",
    "hyperparams = [0, 0.1, 0.2, 0.3, 0.4, 0.5, 0.6, 0.7, 0.8, 0.9, 1.0, 1.1, 1.2, 1.3, 1.4, 1.5, 1.6, 1.7, 1.8, 1.9, 2.0, 2.1, 2.2, 2.3, 2.4, 2.5, 2.6, 2.7, 2.8, 2.9, 3.0]\n",
    "k_folds = 10\n",
    "best_lambda, best_mean_squared_error, mean_squared_errors = cross_validation_linear_regression(k_folds,hyperparams,train_inputs,train_targets)\n",
    "\n",
    "# plot results\n",
    "plot_linear_regression_mean_squared_errors(mean_squared_errors,hyperparams)\n",
    "print('best lambda: ' + str (best_lambda))\n",
    "print('best cross validation mean squared error: ' + str(best_mean_squared_error))\n",
    "\n",
    "# train and evaluate with best lambda\n",
    "weights = train_linear_regression(train_inputs,train_targets,best_lambda)\n",
    "mean_squared_error = eval_linear_regression(test_inputs, weights, test_targets)\n",
    "print('test mean squared error: ' + str(mean_squared_error))\n",
    "\n"
   ]
  }
 ],
 "metadata": {
  "colab": {
   "name": "cs480_fall20_asst1_linear_regression_skeleton.ipynb",
   "provenance": []
  },
  "kernelspec": {
   "display_name": "Python 3",
   "language": "python",
   "name": "python3"
  },
  "language_info": {
   "codemirror_mode": {
    "name": "ipython",
    "version": 3
   },
   "file_extension": ".py",
   "mimetype": "text/x-python",
   "name": "python",
   "nbconvert_exporter": "python",
   "pygments_lexer": "ipython3",
   "version": "3.8.3"
  }
 },
 "nbformat": 4,
 "nbformat_minor": 1
}
